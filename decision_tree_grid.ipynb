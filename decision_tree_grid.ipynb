{
 "cells": [
  {
   "cell_type": "code",
   "execution_count": 2,
   "metadata": {},
   "outputs": [],
   "source": [
    "\n",
    "import numpy as np\n",
    "import pandas as pd\n",
    "\n",
    "from sklearn.preprocessing import StandardScaler\n",
    "from sklearn.linear_model import LogisticRegression\n",
    "from sklearn.pipeline import Pipeline\n",
    "from sklearn.impute import SimpleImputer\n",
    "from sklearn.model_selection import GridSearchCV, train_test_split\n",
    "from sklearn.metrics import plot_confusion_matrix, f1_score, confusion_matrix\n",
    "from sklearn.tree import DecisionTreeClassifier\n",
    "\n",
    "\n",
    "\n",
    "with open('/Users/erlend/Documents/COGS_118/Project/csv 2/datafile.txt','r') as f:\n",
    "    X = np.loadtxt(f)\n",
    "f.close()\n",
    "\n",
    "with open('/Users/erlend/Documents/COGS_118/Project/csv 2/labels.txt','r') as f:\n",
    "    y = np.loadtxt(f, dtype=str)\n",
    "f.close()\n",
    "\n",
    "X_train, X_test, y_train, y_test = train_test_split(X, y, random_state=42)"
   ]
  },
  {
   "cell_type": "code",
   "execution_count": 4,
   "metadata": {},
   "outputs": [
    {
     "name": "stdout",
     "output_type": "stream",
     "text": [
      "Fitting 2 folds for each of 4 candidates, totalling 8 fits\n",
      "[CV 1/2] END .................clf__max_depth=20;, score=0.926 total time=  42.9s\n",
      "[CV 2/2] END .................clf__max_depth=20;, score=0.925 total time=  39.9s\n",
      "[CV 1/2] END .................clf__max_depth=30;, score=0.953 total time=  45.3s\n",
      "[CV 2/2] END .................clf__max_depth=30;, score=0.953 total time=  48.3s\n",
      "[CV 1/2] END .................clf__max_depth=40;, score=0.961 total time= 1.0min\n",
      "[CV 2/2] END .................clf__max_depth=40;, score=0.961 total time=  51.3s\n",
      "[CV 1/2] END .................clf__max_depth=60;, score=0.960 total time=  50.1s\n",
      "[CV 2/2] END .................clf__max_depth=60;, score=0.960 total time=  52.7s\n"
     ]
    }
   ],
   "source": [
    "clf = DecisionTreeClassifier()\n",
    "\n",
    "pipe = Pipeline(steps = [('clf', clf)])\n",
    "\n",
    "grid = GridSearchCV(pipe, param_grid = {'clf__max_depth': [20,40,60]}, cv=2, verbose = 3)\n",
    "grid.fit(X_train, y_train)\n",
    "\n",
    "best = grid.best_estimator_\n",
    "print(grid.cv_results_)\n"
   ]
  },
  {
   "cell_type": "code",
   "execution_count": 3,
   "metadata": {},
   "outputs": [
    {
     "data": {
      "text/plain": [
       "DecisionTreeClassifier(max_depth=40)"
      ]
     },
     "execution_count": 3,
     "metadata": {},
     "output_type": "execute_result"
    }
   ],
   "source": [
    "clf_40 = DecisionTreeClassifier(max_depth = 40)\n",
    "clf_40.fit(X_train, y_train)"
   ]
  },
  {
   "cell_type": "code",
   "execution_count": null,
   "metadata": {},
   "outputs": [],
   "source": [
    "import matplotlib.pyplot as plt\n",
    "from sklearn import tree\n",
    "\n",
    "features = ['A', 'ɓ', 'a', 'ɗ', 'o', 'n', 'i', 'l', 'h', 'e', 'θ', 'ɾ', 'm', 'k', 'u', 's', 'f', 'ɠ', 't', 'p', 'z', 'ʄ', 'j', 'ⁿ', 'w', 'ᵐ', 'ᵑ', 'g', 'ʃ', 'B', 'c', 'ɲ', 'C', 'D', 'E', 'F', 'I', 'L', 'M', 'O', 'N', 'G', 'H', 'J', 'K', 'ʒ', 'v', 'ŋ', 'P', 'R', 'S', 'T', \"'\", 'U', 'V', 'W', 'Y', 'Z', 'x', '-', 'ɑ', 'b', 'ɔ', 'd', 'ɪ', 'ˈ', 'ː', 'ə', 'ʊ', 'ʈ', 'ʉ', 'ɖ', 'ʋ', 'y', 'ʂ', 'ɛ', 'æ', 'ʏ', ' ', 'œ', 'ʔ', '/', ',', 'ɳ', 'ɭ', 'ø', 'ç', '̩', 'ɥ', 'ɱ', 'ɽ', 'r', 'ɧ', '²', 'ɵ', 'ä', 'ɕ', '?', '.', 'ˌ', 'ž', 'é', 'š', 'q', 'è', 'û', 'å', 'χ', 'ɐ', '̯', 'ʀ', 'ʁ', 'ɡ', 'ĭ', 'ʧ', '͡', '(', ')', 'ˀ', '͜', 'ã', '\\u2060', '[', '̃', 'ˑ', 'ʰ', ']', 'Q', 'ᵻ', 'õ', '̍', '̥', '̆', '\\u200b', 'ɘ', '…', '|', ':', 'ɹ', 'ɫ', 'ɝ', 'ð', '˧', '˥', '˦', '˨', 'ɤ', '˩', 'ɣ', 'ă', 'ɯ', 'ʐ', 'ʼ', 'β', 'ʎ', 'ʝ', 'ɒ', 'ǧ', 'ɢ', 'î', 'ŝ', 'ĝ', 'ب', 'ل', 'ا', 'ف', 'ص', 'ه', '!', 'ğ', 'ô', 'ü', 'ē', 'í', 'ǐ', '�', 'ú', 'à', '’', 'ش', 'و', 'ر', 'ṣ', 'ʻ', 'س', 'م', 'ɴ', 'ʑ', 'ɰ', 'ᵝ', 'ɸ', 'っ', 'ッ', 'ヮ', 'ヶ', 'ゎ', '̪', 'ʱ', 'ũ', 'ĩ', 'ẽ', 'ŭ', 'ɻ', 'ɚ', '2']\n",
    "targets = ['swahili','norwegian','swedish','finnish', 'german', 'english', 'vietnamese', 'french', 'spanish', 'farsi', 'japanese', 'malay', 'orayi', 'esperanto', 'chinese']\n",
    "\n",
    "best = DecisionTreeClassifier(max_depth = 5)\n",
    "best.fit(X_train, y_train)\n",
    "print(\"hei\")\n",
    "fig, axe = plt.subplots(figsize=(100,50))\n",
    "tree.plot_tree(best, ax = axe, fontsize=40,\n",
    "                   feature_names = features,  \n",
    "                   class_names = targets,\n",
    "                   filled=True)\n",
    "plt.show()\n",
    "\n",
    "fig.savefig(\"decistion_tree.png\")"
   ]
  },
  {
   "cell_type": "code",
   "execution_count": null,
   "metadata": {},
   "outputs": [],
   "source": [
    "import matplotlib.pyplot as plt\n",
    "from sklearn import tree\n",
    "\n",
    "fig, ax = plt.subplots(figsize=(10, 10))\n",
    "plot_confusion_matrix(clf_40, X_test, y_test, ax = ax)\n",
    "plt.xticks(rotation = -45)\n",
    "plt.show()\n",
    "\n",
    "print(clf_40.score(X_test, y_test))"
   ]
  },
  {
   "cell_type": "code",
   "execution_count": null,
   "metadata": {},
   "outputs": [],
   "source": [
    "text_representation = tree.export_text(clf_40, features)\n",
    "print(text_representation)"
   ]
  }
 ],
 "metadata": {
  "interpreter": {
   "hash": "2947bb3c6a9c52c0ef6a522a825c3a641385673888bab95acf6caa9ba027fda8"
  },
  "kernelspec": {
   "display_name": "Python 3.9.7 ('base')",
   "language": "python",
   "name": "python3"
  },
  "language_info": {
   "codemirror_mode": {
    "name": "ipython",
    "version": 3
   },
   "file_extension": ".py",
   "mimetype": "text/x-python",
   "name": "python",
   "nbconvert_exporter": "python",
   "pygments_lexer": "ipython3",
   "version": "3.9.7"
  },
  "orig_nbformat": 4
 },
 "nbformat": 4,
 "nbformat_minor": 2
}
